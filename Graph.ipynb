{
 "cells": [
  {
   "cell_type": "code",
   "execution_count": 31,
   "metadata": {},
   "outputs": [],
   "source": [
    "class Graph():\n",
    "    def __init__(self, g):\n",
    "        self.graph = g\n",
    "        \n",
    "    def numIslands(self):\n",
    "        if not self.graph:\n",
    "            return 0\n",
    "\n",
    "        count = 0\n",
    "        for i in range(len(self.graph)):\n",
    "            for j in range(len(self.graph[0])):\n",
    "                if self.graph[i][j] == 1:\n",
    "                    self.dfs(i, j)\n",
    "                    count += 1\n",
    "        return count\n",
    "\n",
    "    def dfs(self, i, j):\n",
    "        if i<0 or j<0 or i>=len(self.graph) or j>=len(self.graph[0]) or self.graph[i][j] != 1:\n",
    "            return\n",
    "        \n",
    "        self.graph[i][j] = '#'\n",
    "        self.dfs(i-1, j)\n",
    "        self.dfs(i+1, j)\n",
    "        \n",
    "        self.dfs(i, j+1)\n",
    "        self.dfs(i, j-1)\n",
    "        \n",
    "        self.dfs(i+1, j+1)\n",
    "        self.dfs(i+1, j-1)\n",
    "        self.dfs(i-1, j+1)\n",
    "        self.dfs(i-1, j-1)\n",
    "        "
   ]
  },
  {
   "cell_type": "code",
   "execution_count": 32,
   "metadata": {},
   "outputs": [
    {
     "name": "stdout",
     "output_type": "stream",
     "text": [
      "3\n"
     ]
    }
   ],
   "source": [
    "graph = [[1, 1, 0, 0, 0], \n",
    "         [0, 1, 0, 0, 1], \n",
    "         [1, 0, 0, 1, 1], \n",
    "         [0, 1, 0, 0, 0], \n",
    "         [1, 0, 0, 0, 0],\n",
    "         [1, 0, 1, 0, 0],\n",
    "         [1, 0, 0, 0, 0]]\n",
    "g = Graph(graph)\n",
    "print(g.numIslands())"
   ]
  },
  {
   "cell_type": "code",
   "execution_count": 40,
   "metadata": {},
   "outputs": [],
   "source": [
    "def findMissingNo(arr):\n",
    "    # get the length of input array\n",
    "    n = len(arr)\n",
    "    \n",
    "    # calculate the total of n+1 consecutive numbers from 0-> n\n",
    "    total = n*(n+1)/2\n",
    "    \n",
    "    # calculate sum of all elements in the array\n",
    "    sumArr = 0\n",
    "    for i in arr:\n",
    "        sumArr += i\n",
    "    \n",
    "    # return missing one\n",
    "    return total - sumArr"
   ]
  },
  {
   "cell_type": "code",
   "execution_count": 46,
   "metadata": {},
   "outputs": [
    {
     "name": "stdout",
     "output_type": "stream",
     "text": [
      "6.0\n"
     ]
    }
   ],
   "source": [
    "numbers = [0,1,2,3,4,5,7] \n",
    "print(findMissingNo(numbers))"
   ]
  },
  {
   "cell_type": "code",
   "execution_count": 53,
   "metadata": {},
   "outputs": [
    {
     "name": "stdout",
     "output_type": "stream",
     "text": [
      "9.26%\n"
     ]
    }
   ],
   "source": [
    "count = 0\n",
    "# count number of cases that roll1 get the value greater that roll2 & roll3\n",
    "for roll1 in range(1, 7):\n",
    "    for roll2 in range(1, 7):\n",
    "        for roll3 in range(1, 7):\n",
    "            if roll1 > roll2 + roll3:\n",
    "                count += 1\n",
    "                \n",
    "# total possibilities\n",
    "total = 6**3\n",
    "\n",
    "# probability result\n",
    "print(f\"{round(count/total*100, 2)}%\")"
   ]
  },
  {
   "cell_type": "code",
   "execution_count": null,
   "metadata": {},
   "outputs": [],
   "source": []
  }
 ],
 "metadata": {
  "kernelspec": {
   "display_name": "Python 3",
   "language": "python",
   "name": "python3"
  },
  "language_info": {
   "codemirror_mode": {
    "name": "ipython",
    "version": 3
   },
   "file_extension": ".py",
   "mimetype": "text/x-python",
   "name": "python",
   "nbconvert_exporter": "python",
   "pygments_lexer": "ipython3",
   "version": "3.7.3"
  }
 },
 "nbformat": 4,
 "nbformat_minor": 2
}

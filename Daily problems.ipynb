{
 "cells": [
  {
   "cell_type": "markdown",
   "metadata": {},
   "source": [
    "## Problem #71\n",
    "This problem was asked by Two Sigma.\n",
    "\n",
    "Using a function rand7() that returns an integer from 1 to 7 (inclusive) with uniform probability, implement a function rand5() that returns an integer from 1 to 5 (inclusive)."
   ]
  },
  {
   "cell_type": "code",
   "execution_count": 12,
   "metadata": {},
   "outputs": [],
   "source": [
    "import numpy as np\n",
    "def rand7():\n",
    "    return np.random.randint(1, 7)"
   ]
  },
  {
   "cell_type": "code",
   "execution_count": 13,
   "metadata": {},
   "outputs": [
    {
     "data": {
      "text/plain": [
       "3"
      ]
     },
     "execution_count": 13,
     "metadata": {},
     "output_type": "execute_result"
    }
   ],
   "source": [
    "rand7()"
   ]
  },
  {
   "cell_type": "code",
   "execution_count": 1,
   "metadata": {},
   "outputs": [
    {
     "name": "stdout",
     "output_type": "stream",
     "text": [
      "Collecting numpy\n",
      "  Using cached https://files.pythonhosted.org/packages/fc/d1/45be1144b03b6b1e24f9a924f23f66b4ad030d834ad31fb9e5581bd328af/numpy-1.16.4-cp37-cp37m-manylinux1_x86_64.whl\n",
      "Installing collected packages: numpy\n",
      "Successfully installed numpy-1.16.4\n"
     ]
    }
   ],
   "source": [
    "!pip install numpy"
   ]
  },
  {
   "cell_type": "markdown",
   "metadata": {},
   "source": [
    "#### This problem was recently asked by AirBNB:\n",
    "Given a sorted array, A, with possibly duplicated elements, find the indices of the first and last occurrences of a target element, x. Return -1 if the target is not found.\n",
    "Input: A = [1,3,3,5,7,8,9,9,9,15], target = 9\n",
    "Output: [6,8]\n",
    "\n",
    "Input: A = [100, 150, 150, 153], target = 150\n",
    "Output: [1,2]\n",
    "\n",
    "Input: A = [1,2,3,4,5,6,10], target = 9\n",
    "Output: [-1, -1]"
   ]
  },
  {
   "cell_type": "code",
   "execution_count": 6,
   "metadata": {},
   "outputs": [
    {
     "name": "stdout",
     "output_type": "stream",
     "text": [
      "[6, 8]\n"
     ]
    }
   ],
   "source": [
    "\n",
    "def solution(array, target):\n",
    "    arr_len = len(array)\n",
    "    result = [-1, -1]\n",
    "    for i in reversed(range(arr_len)):\n",
    "        if array[i] == target:\n",
    "            result[0] = i\n",
    "    \n",
    "    for i in range(arr_len):\n",
    "        if array[i] == target:\n",
    "            result[1] = i\n",
    "    return result\n",
    "arr = [1,3,3,5,7,8,9,9,9,15] \n",
    "x = 9\n",
    "result = solution(arr, x)\n",
    "print(result)"
   ]
  },
  {
   "cell_type": "markdown",
   "metadata": {},
   "source": [
    "### This problem was recently asked by LinkedIn:\n",
    "\n",
    "You are given a positive integer N which represents the number of steps in a staircase. You can either climb 1 or 2 steps at a time. Write a function that returns the number of unique ways to climb the stairs.\n",
    "\n",
    "def staircase(n):\n",
    "   Fill this in.\n",
    "  \n",
    "print staircase(4)\n",
    " 5\n",
    "print staircase(5)\n",
    " 8"
   ]
  },
  {
   "cell_type": "code",
   "execution_count": null,
   "metadata": {},
   "outputs": [],
   "source": [
    "def staircase(n):\n",
    "    "
   ]
  },
  {
   "cell_type": "code",
   "execution_count": 18,
   "metadata": {},
   "outputs": [],
   "source": [
    "arr = [0,1,2]\n",
    "a = arr.pop()"
   ]
  },
  {
   "cell_type": "code",
   "execution_count": 19,
   "metadata": {},
   "outputs": [
    {
     "data": {
      "text/plain": [
       "2"
      ]
     },
     "execution_count": 19,
     "metadata": {},
     "output_type": "execute_result"
    }
   ],
   "source": [
    "a"
   ]
  },
  {
   "cell_type": "code",
   "execution_count": 20,
   "metadata": {},
   "outputs": [
    {
     "data": {
      "text/plain": [
       "[0, 1]"
      ]
     },
     "execution_count": 20,
     "metadata": {},
     "output_type": "execute_result"
    }
   ],
   "source": [
    "arr"
   ]
  },
  {
   "cell_type": "markdown",
   "metadata": {},
   "source": [
    "Hi, here's your problem today. This problem was recently asked by Amazon:\n",
    "\n",
    "Given two arrays, write a function to compute their intersection - the intersection means the numbers that are in both arrays.\n",
    "\n",
    "Example 1:\n",
    "Input: nums1 = [1,2,2,1], nums2 = [2,2]\n",
    "Output: [2]\n",
    "\n",
    "Example 2:\n",
    "Input: nums1 = [4,9,5], nums2 = [9,4,9,8,4]\n",
    "Output: [9,4]\n",
    "\n",
    "Note:\n",
    "Each element in the result must be unique.\n",
    "The result can be in any order."
   ]
  },
  {
   "cell_type": "code",
   "execution_count": 7,
   "metadata": {},
   "outputs": [
    {
     "name": "stdout",
     "output_type": "stream",
     "text": [
      "[4, 9]\n"
     ]
    }
   ],
   "source": [
    "class Solution:\n",
    "    def intersection(self, nums1, nums2):\n",
    "    # Fill this in.\n",
    "        res = []\n",
    "        for x in nums1:\n",
    "            for y in nums2:\n",
    "                if x == y and x not in res:\n",
    "                    res.append(x)\n",
    "        return res\n",
    "\n",
    "# Time complexity: n2\n",
    "print(Solution().intersection([4, 9, 5], [9, 4, 9, 8, 4]))"
   ]
  },
  {
   "cell_type": "markdown",
   "metadata": {},
   "source": [
    "Hi, here's your problem today. This problem was recently asked by Microsoft:\n",
    "\n",
    "You are given an array of integers. Return the length of the longest increasing subsequence (not necessarily contiguous) in the array.\n",
    "\n",
    "Example:\n",
    "[0, 8, 4, 12, 2, 10, 6, 14, 1, 9, 5, 13, 3, 11, 7, 15]\n",
    "\n",
    "The following input should return 6 since the longest increasing subsequence is 0, 2, 6, 9 , 11, 15."
   ]
  },
  {
   "cell_type": "code",
   "execution_count": null,
   "metadata": {},
   "outputs": [],
   "source": [
    "class Solution:\n",
    "    def increaseSeq(self, arr):\n",
    "        res = []\n",
    "        prev = arr[0]\n",
    "        for i in range(1, len(arr)):\n",
    "            serie = []\n",
    "            if arr[i] <= prev:\n",
    "                continue\n",
    "            else:\n",
    "                serie.append[]"
   ]
  }
 ],
 "metadata": {
  "kernelspec": {
   "display_name": "Python 3",
   "language": "python",
   "name": "python3"
  },
  "language_info": {
   "codemirror_mode": {
    "name": "ipython",
    "version": 3
   },
   "file_extension": ".py",
   "mimetype": "text/x-python",
   "name": "python",
   "nbconvert_exporter": "python",
   "pygments_lexer": "ipython3",
   "version": "3.7.3"
  }
 },
 "nbformat": 4,
 "nbformat_minor": 2
}
